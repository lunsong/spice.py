{
 "cells": [
  {
   "attachments": {},
   "cell_type": "markdown",
   "id": "a663157f",
   "metadata": {},
   "source": [
    "# spice.py 使用示例：一个差分放大器的计算\n",
    "\n",
    "本例中计算以下差分放大器的传输特性[(来源)](https://sites.bu.edu/engcourses/files/2016/08/mosfet-differential-amplifier.pdf)。\n",
    "\n",
    "![](circuit.png)"
   ]
  },
  {
   "cell_type": "code",
   "execution_count": 1,
   "id": "8da73b1e",
   "metadata": {},
   "outputs": [],
   "source": [
    "from spice import V,R,MOSFET,solve,clear,Vertex\n",
    "from numpy import linspace\n",
    "\n",
    "NMOS = lambda G,D,S,ratio,V_DS=2: MOSFET(G=G,D=D,S=S,mode=\"depletion\",\n",
    "        V_TN=1,channel=\"N\",K=ratio*1e-5,l=1e-2,V_DS=V_DS)\n",
    "PMOS = lambda G,D,S,ratio,V_DS=2: MOSFET(G=G,D=D,S=S,mode=\"depletion\",\n",
    "        V_TN=1,channel=\"P\",K=ratio*5e-6,l=1e-2,V_DS=V_DS)"
   ]
  },
  {
   "cell_type": "code",
   "execution_count": 2,
   "id": "06d56a9c",
   "metadata": {},
   "outputs": [
    {
     "ename": "LinAlgError",
     "evalue": "Singular matrix",
     "output_type": "error",
     "traceback": [
      "\u001b[0;31m---------------------------------------------------------------------------\u001b[0m",
      "\u001b[0;31mLinAlgError\u001b[0m                               Traceback (most recent call last)",
      "\u001b[0;32m/tmp/ipykernel_22315/4105025696.py\u001b[0m in \u001b[0;36m<cell line: 22>\u001b[0;34m()\u001b[0m\n\u001b[1;32m     20\u001b[0m \u001b[0mPMOS\u001b[0m\u001b[0;34m(\u001b[0m\u001b[0mS\u001b[0m\u001b[0;34m=\u001b[0m\u001b[0;34m\"VCC\"\u001b[0m\u001b[0;34m,\u001b[0m\u001b[0mG\u001b[0m\u001b[0;34m=\u001b[0m\u001b[0;36m3\u001b[0m\u001b[0;34m,\u001b[0m\u001b[0mD\u001b[0m\u001b[0;34m=\u001b[0m\u001b[0;34m\"Vout\"\u001b[0m\u001b[0;34m,\u001b[0m\u001b[0mratio\u001b[0m\u001b[0;34m=\u001b[0m\u001b[0;36m9\u001b[0m\u001b[0;34m/\u001b[0m\u001b[0;36m2\u001b[0m\u001b[0;34m)\u001b[0m\u001b[0;34m\u001b[0m\u001b[0;34m\u001b[0m\u001b[0m\n\u001b[1;32m     21\u001b[0m \u001b[0;34m\u001b[0m\u001b[0m\n\u001b[0;32m---> 22\u001b[0;31m \u001b[0mres\u001b[0m \u001b[0;34m=\u001b[0m \u001b[0msolve\u001b[0m\u001b[0;34m(\u001b[0m\u001b[0mfull_output\u001b[0m\u001b[0;34m=\u001b[0m\u001b[0;32mTrue\u001b[0m\u001b[0;34m)\u001b[0m\u001b[0;34m\u001b[0m\u001b[0;34m\u001b[0m\u001b[0m\n\u001b[0m",
      "\u001b[0;32m~/.repo/spice.py/spice.py\u001b[0m in \u001b[0;36msolve\u001b[0;34m(gnd, max_delta, eps, N, disp, full_output)\u001b[0m\n\u001b[1;32m    196\u001b[0m         \u001b[0;32mif\u001b[0m \u001b[0mdisp\u001b[0m\u001b[0;34m>\u001b[0m\u001b[0;36m1\u001b[0m\u001b[0;34m:\u001b[0m \u001b[0mprint\u001b[0m\u001b[0;34m(\u001b[0m\u001b[0meqs\u001b[0m\u001b[0;34m[\u001b[0m\u001b[0;34m:\u001b[0m\u001b[0;34m,\u001b[0m\u001b[0;34m:\u001b[0m\u001b[0mEdge\u001b[0m\u001b[0;34m.\u001b[0m\u001b[0mtotal\u001b[0m\u001b[0;34m]\u001b[0m\u001b[0;34m)\u001b[0m\u001b[0;34m\u001b[0m\u001b[0;34m\u001b[0m\u001b[0m\n\u001b[1;32m    197\u001b[0m         \u001b[0;32mif\u001b[0m \u001b[0mdisp\u001b[0m\u001b[0;34m>\u001b[0m\u001b[0;36m1\u001b[0m\u001b[0;34m:\u001b[0m \u001b[0mprint\u001b[0m\u001b[0;34m(\u001b[0m\u001b[0meig\u001b[0m\u001b[0;34m(\u001b[0m\u001b[0meqs\u001b[0m\u001b[0;34m[\u001b[0m\u001b[0;34m:\u001b[0m\u001b[0;34m,\u001b[0m\u001b[0;34m:\u001b[0m\u001b[0mEdge\u001b[0m\u001b[0;34m.\u001b[0m\u001b[0mtotal\u001b[0m\u001b[0;34m]\u001b[0m\u001b[0;34m)\u001b[0m\u001b[0;34m[\u001b[0m\u001b[0;36m1\u001b[0m\u001b[0;34m]\u001b[0m\u001b[0;34m[\u001b[0m\u001b[0;34m:\u001b[0m\u001b[0;34m,\u001b[0m\u001b[0;34m-\u001b[0m\u001b[0;36m1\u001b[0m\u001b[0;34m]\u001b[0m\u001b[0;34m)\u001b[0m\u001b[0;34m\u001b[0m\u001b[0;34m\u001b[0m\u001b[0m\n\u001b[0;32m--> 198\u001b[0;31m         \u001b[0msol\u001b[0m \u001b[0;34m=\u001b[0m \u001b[0;34m-\u001b[0m\u001b[0mlsolve\u001b[0m\u001b[0;34m(\u001b[0m \u001b[0meqs\u001b[0m\u001b[0;34m[\u001b[0m\u001b[0;34m:\u001b[0m\u001b[0;34m,\u001b[0m\u001b[0;34m:\u001b[0m\u001b[0mEdge\u001b[0m\u001b[0;34m.\u001b[0m\u001b[0mtotal\u001b[0m\u001b[0;34m]\u001b[0m\u001b[0;34m,\u001b[0m \u001b[0meqs\u001b[0m\u001b[0;34m[\u001b[0m\u001b[0;34m:\u001b[0m\u001b[0;34m,\u001b[0m\u001b[0mEdge\u001b[0m\u001b[0;34m.\u001b[0m\u001b[0mtotal\u001b[0m\u001b[0;34m:\u001b[0m\u001b[0;34m]\u001b[0m\u001b[0;34m)\u001b[0m\u001b[0;34m\u001b[0m\u001b[0;34m\u001b[0m\u001b[0m\n\u001b[0m\u001b[1;32m    199\u001b[0m         \u001b[0msol\u001b[0m \u001b[0;34m=\u001b[0m \u001b[0mconcat\u001b[0m\u001b[0;34m(\u001b[0m\u001b[0;34m(\u001b[0m\u001b[0msol\u001b[0m\u001b[0;34m,\u001b[0m \u001b[0meye\u001b[0m\u001b[0;34m(\u001b[0m\u001b[0mlen\u001b[0m\u001b[0;34m(\u001b[0m\u001b[0mMOSFET\u001b[0m\u001b[0;34m.\u001b[0m\u001b[0mall\u001b[0m\u001b[0;34m)\u001b[0m\u001b[0;34m+\u001b[0m\u001b[0;36m1\u001b[0m\u001b[0;34m)\u001b[0m\u001b[0;34m)\u001b[0m\u001b[0;34m)\u001b[0m\u001b[0;34m\u001b[0m\u001b[0;34m\u001b[0m\u001b[0m\n\u001b[1;32m    200\u001b[0m         \u001b[0mdone\u001b[0m \u001b[0;34m=\u001b[0m \u001b[0;32mTrue\u001b[0m\u001b[0;34m\u001b[0m\u001b[0;34m\u001b[0m\u001b[0m\n",
      "\u001b[0;32m<__array_function__ internals>\u001b[0m in \u001b[0;36msolve\u001b[0;34m(*args, **kwargs)\u001b[0m\n",
      "\u001b[0;32m~/.local/lib/python3.8/site-packages/numpy/linalg/linalg.py\u001b[0m in \u001b[0;36msolve\u001b[0;34m(a, b)\u001b[0m\n\u001b[1;32m    391\u001b[0m     \u001b[0msignature\u001b[0m \u001b[0;34m=\u001b[0m \u001b[0;34m'DD->D'\u001b[0m \u001b[0;32mif\u001b[0m \u001b[0misComplexType\u001b[0m\u001b[0;34m(\u001b[0m\u001b[0mt\u001b[0m\u001b[0;34m)\u001b[0m \u001b[0;32melse\u001b[0m \u001b[0;34m'dd->d'\u001b[0m\u001b[0;34m\u001b[0m\u001b[0;34m\u001b[0m\u001b[0m\n\u001b[1;32m    392\u001b[0m     \u001b[0mextobj\u001b[0m \u001b[0;34m=\u001b[0m \u001b[0mget_linalg_error_extobj\u001b[0m\u001b[0;34m(\u001b[0m\u001b[0m_raise_linalgerror_singular\u001b[0m\u001b[0;34m)\u001b[0m\u001b[0;34m\u001b[0m\u001b[0;34m\u001b[0m\u001b[0m\n\u001b[0;32m--> 393\u001b[0;31m     \u001b[0mr\u001b[0m \u001b[0;34m=\u001b[0m \u001b[0mgufunc\u001b[0m\u001b[0;34m(\u001b[0m\u001b[0ma\u001b[0m\u001b[0;34m,\u001b[0m \u001b[0mb\u001b[0m\u001b[0;34m,\u001b[0m \u001b[0msignature\u001b[0m\u001b[0;34m=\u001b[0m\u001b[0msignature\u001b[0m\u001b[0;34m,\u001b[0m \u001b[0mextobj\u001b[0m\u001b[0;34m=\u001b[0m\u001b[0mextobj\u001b[0m\u001b[0;34m)\u001b[0m\u001b[0;34m\u001b[0m\u001b[0;34m\u001b[0m\u001b[0m\n\u001b[0m\u001b[1;32m    394\u001b[0m \u001b[0;34m\u001b[0m\u001b[0m\n\u001b[1;32m    395\u001b[0m     \u001b[0;32mreturn\u001b[0m \u001b[0mwrap\u001b[0m\u001b[0;34m(\u001b[0m\u001b[0mr\u001b[0m\u001b[0;34m.\u001b[0m\u001b[0mastype\u001b[0m\u001b[0;34m(\u001b[0m\u001b[0mresult_t\u001b[0m\u001b[0;34m,\u001b[0m \u001b[0mcopy\u001b[0m\u001b[0;34m=\u001b[0m\u001b[0;32mFalse\u001b[0m\u001b[0;34m)\u001b[0m\u001b[0;34m)\u001b[0m\u001b[0;34m\u001b[0m\u001b[0;34m\u001b[0m\u001b[0m\n",
      "\u001b[0;32m~/.local/lib/python3.8/site-packages/numpy/linalg/linalg.py\u001b[0m in \u001b[0;36m_raise_linalgerror_singular\u001b[0;34m(err, flag)\u001b[0m\n\u001b[1;32m     86\u001b[0m \u001b[0;34m\u001b[0m\u001b[0m\n\u001b[1;32m     87\u001b[0m \u001b[0;32mdef\u001b[0m \u001b[0m_raise_linalgerror_singular\u001b[0m\u001b[0;34m(\u001b[0m\u001b[0merr\u001b[0m\u001b[0;34m,\u001b[0m \u001b[0mflag\u001b[0m\u001b[0;34m)\u001b[0m\u001b[0;34m:\u001b[0m\u001b[0;34m\u001b[0m\u001b[0;34m\u001b[0m\u001b[0m\n\u001b[0;32m---> 88\u001b[0;31m     \u001b[0;32mraise\u001b[0m \u001b[0mLinAlgError\u001b[0m\u001b[0;34m(\u001b[0m\u001b[0;34m\"Singular matrix\"\u001b[0m\u001b[0;34m)\u001b[0m\u001b[0;34m\u001b[0m\u001b[0;34m\u001b[0m\u001b[0m\n\u001b[0m\u001b[1;32m     89\u001b[0m \u001b[0;34m\u001b[0m\u001b[0m\n\u001b[1;32m     90\u001b[0m \u001b[0;32mdef\u001b[0m \u001b[0m_raise_linalgerror_nonposdef\u001b[0m\u001b[0;34m(\u001b[0m\u001b[0merr\u001b[0m\u001b[0;34m,\u001b[0m \u001b[0mflag\u001b[0m\u001b[0;34m)\u001b[0m\u001b[0;34m:\u001b[0m\u001b[0;34m\u001b[0m\u001b[0;34m\u001b[0m\u001b[0m\n",
      "\u001b[0;31mLinAlgError\u001b[0m: Singular matrix"
     ]
    }
   ],
   "source": [
    "V(\"VCC\",\"GND\",10)\n",
    "V1=V(\"V1\",\"GND\",5) #共模输入\n",
    "V2=V(\"V2\",\"V1\",4e-3) #差分输入\n",
    "\n",
    "# 上面的电流镜\n",
    "PMOS(D=2,G=2,S=\"VCC\",ratio=5/11)\n",
    "PMOS(D=3,G=2,S=\"VCC\",ratio=5/11)\n",
    "\n",
    "# 下面的电流镜\n",
    "R(\"VCC\",1,1e4)\n",
    "NMOS(D=1,     G=1,S=\"GND\",ratio= 1)\n",
    "NMOS(D=4,     G=1,S=\"GND\",ratio=.2)\n",
    "NMOS(D=\"Vout\",G=1,S=\"GND\",ratio= 1)\n",
    "\n",
    "# 输入MOS管\n",
    "NMOS(D=2,G=\"V1\",S=4,ratio=4)\n",
    "NMOS(D=3,G=\"V2\",S=4,ratio=4)\n",
    "\n",
    "# 输出MOS管\n",
    "PMOS(S=\"VCC\",G=3,D=\"Vout\",ratio=9/2)\n",
    "\n",
    "res = solve(full_output=True)"
   ]
  },
  {
   "cell_type": "markdown",
   "id": "cc8c98f0",
   "metadata": {},
   "source": [
    "程序报错，提示有奇异矩阵。事实上，如果一个环路完全由MOS管源漏相连组成，就会出现以上错误。可通过手动添加几个小电阻解决。"
   ]
  },
  {
   "cell_type": "code",
   "execution_count": 3,
   "id": "56dd49c4",
   "metadata": {},
   "outputs": [
    {
     "name": "stdout",
     "output_type": "stream",
     "text": [
      "15999.99999184\n",
      "15991.640721142576\n",
      "15723.733415880179\n",
      "14935.133474720164\n",
      "13734.76035570073\n",
      "12368.010513035244\n",
      "10842.20444906071\n",
      "8872.424551419212\n",
      "6284.303041633575\n",
      "3539.1196670560716\n",
      "1547.0764849600018\n",
      "795.2586583210235\n",
      "360.65739827590886\n",
      "166.05656336092778\n",
      "2.1657965938941856e-05\n",
      "2.0256645199318198e-06\n",
      "2.7139994584004807e-08\n",
      "res(sol=array([-8.55460217e-04,  0.00000000e+00,  0.00000000e+00,  3.92059983e-04,\n",
      "        3.92059983e-04,  6.86506792e-05,  3.94749553e-04,  3.42513194e-05,\n",
      "        3.43993597e-05,  3.94749553e-04, -3.42513194e-05, -3.43993597e-05,\n",
      "        3.42513194e-05,  3.43993597e-05, -3.94749553e-04,  6.07940017e+00,\n",
      "        4.08423528e+00,  6.80711513e+00, -3.81017600e+00, -4.25886016e+00,\n",
      "        2.10558869e+00,  1.65690452e+00, -3.19288448e+00,  1.00000000e+00]), done=True, step=18, msg='')\n"
     ]
    }
   ],
   "source": [
    "clear() # 清楚之前的电路。重画电路必须调用\n",
    "\n",
    "V(\"VCC\",\"GND\",10)\n",
    "V1=V(\"V1\",\"GND\",5)\n",
    "V2=V(\"V2\",\"V1\",4e-3)\n",
    "\n",
    "R(\"VCC\",1,1e4)\n",
    "NMOS(D=1,     G=1,S=\"GND\",ratio= 1)\n",
    "NMOS(D=4,     G=1,S=\"GND\",ratio=.2)\n",
    "NMOS(D=\"Vout\",G=1,S=\"GND\",ratio= 1)\n",
    "\n",
    "R(\"VCC\",\"X1\",1e-3)\n",
    "R(\"VCC\",\"X2\",1e-3)\n",
    "R(\"VCC\",\"X3\",1e-3)\n",
    "\n",
    "PMOS(D=2,G=2,S=\"X1\",ratio=5/11)\n",
    "PMOS(D=3,G=2,S=\"X2\",ratio=5/11)\n",
    "\n",
    "NMOS(D=2,G=\"V1\",S=4,ratio=4)\n",
    "NMOS(D=3,G=\"V2\",S=4,ratio=4)\n",
    "\n",
    "PMOS(S=\"X3\",G=3,D=\"Vout\",ratio=9/2)\n",
    "\n",
    "res=solve(full_output=True,disp=1)\n",
    "print(res)"
   ]
  },
  {
   "cell_type": "markdown",
   "id": "da2c6cc4",
   "metadata": {},
   "source": [
    "以上结果显示了求解过程中Newton-Raphson迭代中误差的变化。\n",
    "\n",
    "接下来计算差分输入从-0.1V到0.1V变化时输出的变化。"
   ]
  },
  {
   "cell_type": "code",
   "execution_count": 4,
   "id": "9c5a68b9",
   "metadata": {},
   "outputs": [
    {
     "data": {
      "text/plain": [
       "[<matplotlib.lines.Line2D at 0x7f81911c2a60>]"
      ]
     },
     "execution_count": 4,
     "metadata": {},
     "output_type": "execute_result"
    },
    {
     "data": {
      "image/png": "[encoded data removed]",
      "text/plain": [
       "<Figure size 432x288 with 1 Axes>"
      ]
     },
     "metadata": {
      "needs_background": "light"
     },
     "output_type": "display_data"
    }
   ],
   "source": [
    "vdc = linspace(-.1,.1,200)\n",
    "vout = []\n",
    "for v in vdc:\n",
    "    V2.U = v\n",
    "    res = solve(eps=1e-8,N=1000,disp=0,full_output=True)\n",
    "    if not res.done:\n",
    "        print(res.msg)\n",
    "        break\n",
    "    vout.append(Vertex(\"Vout\").V @ res.sol)\n",
    "\n",
    "import matplotlib.pyplot as plt\n",
    "%matplotlib inline\n",
    "\n",
    "plt.plot(vdc,vout)"
   ]
  }
 ],
 "metadata": {
  "kernelspec": {
   "display_name": "Python 3 (ipykernel)",
   "language": "python",
   "name": "python3"
  },
  "language_info": {
   "codemirror_mode": {
    "name": "ipython",
    "version": 3
   },
   "file_extension": ".py",
   "mimetype": "text/x-python",
   "name": "python",
   "nbconvert_exporter": "python",
   "pygments_lexer": "ipython3",
   "version": "3.8.10"
  }
 },
 "nbformat": 4,
 "nbformat_minor": 5
}
